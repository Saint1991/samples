{
 "cells": [
  {
   "cell_type": "code",
   "execution_count": 4,
   "id": "005da110-18cf-4ace-9ee0-8f1229e6df89",
   "metadata": {},
   "outputs": [],
   "source": [
    "import numpy as np\n",
    "import pandas as pd"
   ]
  },
  {
   "cell_type": "code",
   "execution_count": 7,
   "id": "3797ed1a-b280-4893-a1bc-5946bbfe906b",
   "metadata": {},
   "outputs": [],
   "source": [
    "from sklearn.metrics import f1_score\n",
    "from scipy.optimize import minimize"
   ]
  },
  {
   "cell_type": "code",
   "execution_count": 10,
   "id": "496f911a-c341-433e-af41-476ae042be3c",
   "metadata": {},
   "outputs": [],
   "source": [
    "rand = np.random.RandomState(seed=0)\n",
    "train_y_proba = np.linspace(0, 1.0, 1000)"
   ]
  },
  {
   "cell_type": "code",
   "execution_count": 15,
   "id": "4c007c56-2e47-4e9c-b1a3-e69e99a929fc",
   "metadata": {},
   "outputs": [],
   "source": [
    "train_y = pd.Series(rand.uniform(0.0, 1.0, train_y_proba.size) < train_y_proba)\n",
    "train_pred = np.clip(train_y_proba * np.exp(rand.standard_normal(train_y_proba.shape) * 0.3), 0.0, 1.0)"
   ]
  },
  {
   "cell_type": "code",
   "execution_count": 18,
   "id": "e389945c-1f95-4ba8-921d-25f8dc20d923",
   "metadata": {},
   "outputs": [
    {
     "name": "stdout",
     "output_type": "stream",
     "text": [
      "threshold: 0.5, f1: 0.7229166666666667\n"
     ]
    }
   ],
   "source": [
    "init_threshold = 0.5\n",
    "init_score = f1_score(train_y, train_pred > init_threshold)\n",
    "\n",
    "print(f\"threshold: {init_threshold}, f1: {init_score}\")"
   ]
  },
  {
   "cell_type": "code",
   "execution_count": 20,
   "id": "8aeefefc-5a82-4fea-a50b-fccb285e36e5",
   "metadata": {},
   "outputs": [],
   "source": [
    "def f1_opt(threshold):\n",
    "    return -f1_score(train_y, train_pred >= threshold)"
   ]
  },
  {
   "cell_type": "code",
   "execution_count": 23,
   "id": "2f7788a8-b380-4fe6-8e16-ccd365feca14",
   "metadata": {},
   "outputs": [],
   "source": [
    "def nelder_mead(opt):\n",
    "    result = minimize(opt, x0=np.array([0.5]), method=\"Nelder-Mead\")\n",
    "    return result['x'].item()"
   ]
  },
  {
   "cell_type": "code",
   "execution_count": 27,
   "id": "fb17504b-eb3f-472c-85da-0e9c3360000c",
   "metadata": {},
   "outputs": [
    {
     "data": {
      "text/plain": [
       "0.3749999999999999"
      ]
     },
     "execution_count": 27,
     "metadata": {},
     "output_type": "execute_result"
    }
   ],
   "source": [
    "best_threshold = nelder_mead(f1_opt)\n",
    "best_threshold"
   ]
  },
  {
   "cell_type": "code",
   "execution_count": 28,
   "id": "99e16052-7d6f-41d6-a030-74ae75f82a4d",
   "metadata": {},
   "outputs": [
    {
     "data": {
      "text/plain": [
       "0.757548032936871"
      ]
     },
     "execution_count": 28,
     "metadata": {},
     "output_type": "execute_result"
    }
   ],
   "source": [
    "best_score = f1_score(train_y, train_pred >= best_threshold)\n",
    "best_score"
   ]
  }
 ],
 "metadata": {
  "kernelspec": {
   "display_name": "Python 3 (ipykernel)",
   "language": "python",
   "name": "python3"
  },
  "language_info": {
   "codemirror_mode": {
    "name": "ipython",
    "version": 3
   },
   "file_extension": ".py",
   "mimetype": "text/x-python",
   "name": "python",
   "nbconvert_exporter": "python",
   "pygments_lexer": "ipython3",
   "version": "3.11.0"
  }
 },
 "nbformat": 4,
 "nbformat_minor": 5
}
