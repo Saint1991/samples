{
 "cells": [
  {
   "cell_type": "markdown",
   "metadata": {},
   "source": [
    "# enable user scoped libraries"
   ]
  },
  {
   "cell_type": "code",
   "execution_count": 1,
   "metadata": {},
   "outputs": [],
   "source": [
    "import site\n",
    "site.addsitedir(site.USER_SITE)"
   ]
  },
  {
   "cell_type": "markdown",
   "metadata": {},
   "source": [
    "# import basic packages"
   ]
  },
  {
   "cell_type": "code",
   "execution_count": 2,
   "metadata": {},
   "outputs": [],
   "source": [
    "import math\n",
    "import numpy as np\n",
    "import torch"
   ]
  },
  {
   "cell_type": "markdown",
   "metadata": {},
   "source": [
    "# params"
   ]
  },
  {
   "cell_type": "code",
   "execution_count": 3,
   "metadata": {},
   "outputs": [],
   "source": [
    "BATCH_SIZE=128\n",
    "EPOCHS = 30\n",
    "VALIDATION_RATIO = 0.2\n",
    "RANDOM_SEED = 1"
   ]
  },
  {
   "cell_type": "markdown",
   "metadata": {},
   "source": [
    "# function to preprocess datasets"
   ]
  },
  {
   "cell_type": "code",
   "execution_count": 4,
   "metadata": {},
   "outputs": [],
   "source": [
    "from torchvision import transforms"
   ]
  },
  {
   "cell_type": "code",
   "execution_count": 5,
   "metadata": {},
   "outputs": [],
   "source": [
    "preprocess = transforms.Compose([\n",
    "    transforms.ToTensor()\n",
    "])"
   ]
  },
  {
   "cell_type": "markdown",
   "metadata": {},
   "source": [
    "# load training datasets"
   ]
  },
  {
   "cell_type": "code",
   "execution_count": 6,
   "metadata": {},
   "outputs": [],
   "source": [
    "from torchvision import datasets\n",
    "from torch.utils.data import DataLoader\n",
    "\n",
    "import matplotlib.pyplot as plt"
   ]
  },
  {
   "cell_type": "code",
   "execution_count": 7,
   "metadata": {},
   "outputs": [
    {
     "data": {
      "text/plain": [
       "torch.Size([60000, 28, 28])"
      ]
     },
     "execution_count": 7,
     "metadata": {},
     "output_type": "execute_result"
    }
   ],
   "source": [
    "mnist = datasets.MNIST('../data', download=True, transform=preprocess)\n",
    "dataset_shape  = mnist.train_data.size()\n",
    "dataset_shape "
   ]
  },
  {
   "cell_type": "markdown",
   "metadata": {},
   "source": [
    "# train validation split"
   ]
  },
  {
   "cell_type": "code",
   "execution_count": 8,
   "metadata": {},
   "outputs": [],
   "source": [
    "from torch.utils.data import DataLoader, Dataset\n",
    "from torch.utils.data.dataset import random_split\n",
    "from torch.utils.data.sampler import SubsetRandomSampler"
   ]
  },
  {
   "cell_type": "code",
   "execution_count": 9,
   "metadata": {},
   "outputs": [],
   "source": [
    "sample_count = dataset_shape[0]\n",
    "validation_count = math.floor(VALIDATION_RATIO * sample_count)\n",
    "train_count = sample_count - validation_count"
   ]
  },
  {
   "cell_type": "code",
   "execution_count": 10,
   "metadata": {},
   "outputs": [],
   "source": [
    "tset, vset = random_split(mnist, [train_count, validation_count])"
   ]
  },
  {
   "cell_type": "code",
   "execution_count": 11,
   "metadata": {},
   "outputs": [],
   "source": [
    "trainingset = DataLoader(tset, batch_size=BATCH_SIZE, shuffle=True)\n",
    "validationset = DataLoader(vset, batch_size=len(vset))"
   ]
  },
  {
   "cell_type": "markdown",
   "metadata": {},
   "source": [
    "### content of the first image"
   ]
  },
  {
   "cell_type": "code",
   "execution_count": 12,
   "metadata": {},
   "outputs": [],
   "source": [
    "data, label = trainingset.dataset[0]"
   ]
  },
  {
   "cell_type": "code",
   "execution_count": 13,
   "metadata": {},
   "outputs": [
    {
     "data": {
      "text/plain": [
       "tensor([[ 0.0000,  0.0000,  0.0000,  0.0000,  0.0000,  0.0000,  0.0000,\n",
       "          0.0000,  0.0000,  0.0000,  0.0000,  0.0000,  0.0000,  0.0000,\n",
       "          0.0000,  0.0000,  0.0000,  0.0000,  0.0000,  0.0000,  0.0000,\n",
       "          0.0000,  0.0000,  0.0000,  0.0000,  0.0000,  0.0000,  0.0000],\n",
       "        [ 0.0000,  0.0000,  0.0000,  0.0000,  0.0000,  0.0000,  0.0000,\n",
       "          0.0000,  0.0000,  0.0000,  0.0000,  0.0000,  0.0000,  0.0000,\n",
       "          0.0000,  0.0000,  0.0000,  0.0000,  0.0000,  0.0000,  0.0000,\n",
       "          0.0000,  0.0000,  0.0000,  0.0000,  0.0000,  0.0000,  0.0000],\n",
       "        [ 0.0000,  0.0000,  0.0000,  0.0000,  0.0000,  0.0000,  0.0000,\n",
       "          0.0000,  0.0000,  0.0000,  0.0000,  0.0000,  0.0000,  0.0000,\n",
       "          0.0000,  0.0000,  0.0000,  0.0000,  0.0000,  0.0000,  0.0000,\n",
       "          0.0000,  0.0000,  0.0000,  0.0000,  0.0000,  0.0000,  0.0000],\n",
       "        [ 0.0000,  0.0000,  0.0000,  0.0000,  0.0000,  0.0000,  0.0000,\n",
       "          0.0000,  0.0000,  0.0000,  0.0000,  0.0000,  0.0000,  0.0000,\n",
       "          0.0000,  0.0000,  0.0000,  0.0000,  0.0000,  0.0000,  0.0000,\n",
       "          0.0000,  0.0000,  0.0000,  0.0000,  0.0000,  0.0000,  0.0000],\n",
       "        [ 0.0000,  0.0000,  0.0000,  0.0000,  0.0000,  0.0000,  0.0000,\n",
       "          0.0000,  0.0000,  0.0000,  0.0000,  0.0000,  0.0000,  0.0000,\n",
       "          0.0000,  0.0000,  0.0000,  0.0000,  0.0000,  0.0000,  0.0000,\n",
       "          0.0000,  0.0000,  0.0000,  0.0000,  0.0000,  0.0000,  0.0000],\n",
       "        [ 0.0000,  0.0000,  0.0000,  0.0000,  0.0000,  0.0000,  0.0000,\n",
       "          0.0000,  0.0000,  0.0000,  0.0000,  0.0000,  0.2980,  0.7529,\n",
       "          0.4314,  0.0000,  0.0000,  0.0000,  0.0000,  0.0000,  0.0000,\n",
       "          0.0000,  0.0000,  0.0000,  0.0000,  0.0000,  0.0000,  0.0000],\n",
       "        [ 0.0000,  0.0000,  0.0000,  0.0000,  0.0000,  0.0000,  0.0000,\n",
       "          0.0000,  0.0000,  0.0000,  0.0000,  0.3216,  0.9529,  0.9686,\n",
       "          0.5961,  0.0000,  0.0000,  0.0000,  0.0000,  0.0000,  0.0000,\n",
       "          0.0000,  0.0000,  0.0000,  0.0000,  0.0000,  0.0000,  0.0000],\n",
       "        [ 0.0000,  0.0000,  0.0000,  0.0000,  0.0000,  0.0000,  0.0000,\n",
       "          0.0000,  0.0000,  0.0000,  0.1765,  0.9412,  0.9882,  0.5373,\n",
       "          0.0000,  0.0000,  0.0000,  0.0000,  0.0000,  0.0000,  0.0000,\n",
       "          0.0000,  0.0000,  0.0000,  0.0000,  0.0000,  0.0000,  0.0000],\n",
       "        [ 0.0000,  0.0000,  0.0000,  0.0000,  0.0000,  0.0000,  0.0000,\n",
       "          0.0000,  0.0000,  0.0510,  0.7608,  0.9882,  0.7922,  0.0510,\n",
       "          0.0000,  0.0000,  0.0000,  0.0000,  0.0000,  0.0000,  0.0000,\n",
       "          0.0000,  0.0000,  0.0000,  0.0000,  0.0000,  0.0000,  0.0000],\n",
       "        [ 0.0000,  0.0000,  0.0000,  0.0000,  0.0000,  0.0000,  0.0000,\n",
       "          0.0000,  0.0000,  0.3608,  0.9922,  0.9922,  0.1098,  0.0000,\n",
       "          0.0000,  0.0000,  0.0000,  0.0000,  0.0000,  0.0000,  0.0000,\n",
       "          0.0000,  0.0000,  0.0000,  0.0000,  0.0000,  0.0000,  0.0000],\n",
       "        [ 0.0000,  0.0000,  0.0000,  0.0000,  0.0000,  0.0000,  0.0000,\n",
       "          0.0000,  0.0000,  0.8471,  0.9882,  0.6667,  0.0353,  0.0000,\n",
       "          0.0000,  0.0000,  0.0000,  0.0000,  0.0000,  0.0000,  0.0000,\n",
       "          0.0000,  0.0000,  0.0000,  0.0000,  0.0000,  0.0000,  0.0000],\n",
       "        [ 0.0000,  0.0000,  0.0000,  0.0000,  0.0000,  0.0000,  0.0000,\n",
       "          0.0000,  0.1490,  0.9922,  0.9137,  0.1451,  0.0000,  0.2353,\n",
       "          0.6745,  0.2235,  0.0000,  0.0000,  0.0000,  0.0000,  0.0000,\n",
       "          0.0000,  0.0000,  0.0000,  0.0000,  0.0000,  0.0000,  0.0000],\n",
       "        [ 0.0000,  0.0000,  0.0000,  0.0000,  0.0000,  0.0000,  0.0000,\n",
       "          0.0000,  0.4431,  0.9922,  0.7686,  0.0000,  0.0000,  0.5529,\n",
       "          0.9882,  0.8039,  0.0510,  0.0000,  0.2980,  0.4431,  0.4431,\n",
       "          0.0000,  0.0000,  0.0000,  0.0000,  0.0000,  0.0000,  0.0000],\n",
       "        [ 0.0000,  0.0000,  0.0000,  0.0000,  0.0000,  0.0000,  0.0000,\n",
       "          0.0000,  0.2000,  0.9490,  0.9922,  0.6471,  0.5529,  0.6039,\n",
       "          0.9922,  0.9922,  0.9922,  1.0000,  0.9922,  0.9569,  0.4902,\n",
       "          0.0000,  0.0000,  0.0000,  0.0000,  0.0000,  0.0000,  0.0000],\n",
       "        [ 0.0000,  0.0000,  0.0000,  0.0000,  0.0000,  0.0000,  0.0000,\n",
       "          0.0000,  0.0000,  0.5529,  0.9882,  0.9882,  0.9882,  0.9922,\n",
       "          0.9882,  0.9882,  0.9882,  0.9922,  0.7412,  0.2196,  0.0000,\n",
       "          0.0000,  0.0000,  0.0000,  0.0000,  0.0000,  0.0000,  0.0000],\n",
       "        [ 0.0000,  0.0000,  0.0000,  0.0000,  0.0000,  0.0000,  0.0000,\n",
       "          0.0000,  0.0000,  0.1216,  0.3176,  0.6588,  0.6588,  0.9922,\n",
       "          0.9882,  0.9882,  0.9882,  0.4157,  0.0745,  0.0000,  0.0000,\n",
       "          0.0000,  0.0000,  0.0000,  0.0000,  0.0000,  0.0000,  0.0000],\n",
       "        [ 0.0000,  0.0000,  0.0000,  0.0000,  0.0000,  0.0000,  0.0000,\n",
       "          0.0000,  0.0000,  0.0000,  0.0000,  0.0000,  0.0000,  0.1098,\n",
       "          0.5020,  0.9882,  0.5922,  0.0000,  0.0000,  0.0000,  0.0000,\n",
       "          0.0000,  0.0000,  0.0000,  0.0000,  0.0000,  0.0000,  0.0000],\n",
       "        [ 0.0000,  0.0000,  0.0000,  0.0000,  0.0000,  0.0000,  0.0000,\n",
       "          0.0000,  0.0000,  0.0000,  0.0000,  0.0000,  0.0000,  0.0000,\n",
       "          0.2235,  0.9922,  0.9922,  0.0000,  0.0000,  0.0000,  0.0000,\n",
       "          0.0000,  0.0000,  0.0000,  0.0000,  0.0000,  0.0000,  0.0000],\n",
       "        [ 0.0000,  0.0000,  0.0000,  0.0000,  0.0000,  0.0000,  0.0000,\n",
       "          0.0000,  0.0000,  0.0000,  0.0000,  0.0000,  0.0000,  0.0000,\n",
       "          0.2235,  0.9882,  0.9882,  0.0000,  0.0000,  0.0000,  0.0000,\n",
       "          0.0000,  0.0000,  0.0000,  0.0000,  0.0000,  0.0000,  0.0000],\n",
       "        [ 0.0000,  0.0000,  0.0000,  0.0000,  0.0000,  0.0000,  0.0000,\n",
       "          0.0000,  0.0000,  0.0000,  0.0000,  0.0000,  0.0000,  0.0000,\n",
       "          0.2235,  0.9882,  0.9882,  0.0000,  0.0000,  0.0000,  0.0000,\n",
       "          0.0000,  0.0000,  0.0000,  0.0000,  0.0000,  0.0000,  0.0000],\n",
       "        [ 0.0000,  0.0000,  0.0000,  0.0000,  0.0000,  0.0000,  0.0000,\n",
       "          0.0000,  0.0000,  0.0000,  0.0000,  0.0000,  0.0000,  0.0000,\n",
       "          0.2235,  0.9882,  0.7922,  0.0000,  0.0000,  0.0000,  0.0000,\n",
       "          0.0000,  0.0000,  0.0000,  0.0000,  0.0000,  0.0000,  0.0000],\n",
       "        [ 0.0000,  0.0000,  0.0000,  0.0000,  0.0000,  0.0000,  0.0000,\n",
       "          0.0000,  0.0000,  0.0000,  0.0000,  0.0000,  0.0000,  0.0000,\n",
       "          0.4706,  0.9922,  0.5490,  0.0000,  0.0000,  0.0000,  0.0000,\n",
       "          0.0000,  0.0000,  0.0000,  0.0000,  0.0000,  0.0000,  0.0000],\n",
       "        [ 0.0000,  0.0000,  0.0000,  0.0000,  0.0000,  0.0000,  0.0000,\n",
       "          0.0000,  0.0000,  0.0000,  0.0000,  0.0000,  0.0000,  0.0000,\n",
       "          0.6627,  0.9882,  0.5451,  0.0000,  0.0000,  0.0000,  0.0000,\n",
       "          0.0000,  0.0000,  0.0000,  0.0000,  0.0000,  0.0000,  0.0000],\n",
       "        [ 0.0000,  0.0000,  0.0000,  0.0000,  0.0000,  0.0000,  0.0000,\n",
       "          0.0000,  0.0000,  0.0000,  0.0000,  0.0000,  0.0000,  0.0000,\n",
       "          0.6627,  0.9882,  0.2039,  0.0000,  0.0000,  0.0000,  0.0000,\n",
       "          0.0000,  0.0000,  0.0000,  0.0000,  0.0000,  0.0000,  0.0000],\n",
       "        [ 0.0000,  0.0000,  0.0000,  0.0000,  0.0000,  0.0000,  0.0000,\n",
       "          0.0000,  0.0000,  0.0000,  0.0000,  0.0000,  0.0000,  0.0000,\n",
       "          0.4667,  0.9882,  0.1098,  0.0000,  0.0000,  0.0000,  0.0000,\n",
       "          0.0000,  0.0000,  0.0000,  0.0000,  0.0000,  0.0000,  0.0000],\n",
       "        [ 0.0000,  0.0000,  0.0000,  0.0000,  0.0000,  0.0000,  0.0000,\n",
       "          0.0000,  0.0000,  0.0000,  0.0000,  0.0000,  0.0000,  0.0000,\n",
       "          0.0000,  0.0000,  0.0000,  0.0000,  0.0000,  0.0000,  0.0000,\n",
       "          0.0000,  0.0000,  0.0000,  0.0000,  0.0000,  0.0000,  0.0000],\n",
       "        [ 0.0000,  0.0000,  0.0000,  0.0000,  0.0000,  0.0000,  0.0000,\n",
       "          0.0000,  0.0000,  0.0000,  0.0000,  0.0000,  0.0000,  0.0000,\n",
       "          0.0000,  0.0000,  0.0000,  0.0000,  0.0000,  0.0000,  0.0000,\n",
       "          0.0000,  0.0000,  0.0000,  0.0000,  0.0000,  0.0000,  0.0000],\n",
       "        [ 0.0000,  0.0000,  0.0000,  0.0000,  0.0000,  0.0000,  0.0000,\n",
       "          0.0000,  0.0000,  0.0000,  0.0000,  0.0000,  0.0000,  0.0000,\n",
       "          0.0000,  0.0000,  0.0000,  0.0000,  0.0000,  0.0000,  0.0000,\n",
       "          0.0000,  0.0000,  0.0000,  0.0000,  0.0000,  0.0000,  0.0000]])"
      ]
     },
     "execution_count": 13,
     "metadata": {},
     "output_type": "execute_result"
    }
   ],
   "source": [
    "data[0]"
   ]
  },
  {
   "cell_type": "code",
   "execution_count": 14,
   "metadata": {},
   "outputs": [
    {
     "data": {
      "text/plain": [
       "<matplotlib.image.AxesImage at 0x7fc541690518>"
      ]
     },
     "execution_count": 14,
     "metadata": {},
     "output_type": "execute_result"
    },
    {
     "data": {
      "image/png": "[encoded data removed]",
      "text/plain": [
       "<Figure size 432x288 with 1 Axes>"
      ]
     },
     "metadata": {},
     "output_type": "display_data"
    }
   ],
   "source": [
    "plt.imshow(data[0].numpy())"
   ]
  },
  {
   "cell_type": "markdown",
   "metadata": {},
   "source": [
    "### label of the first image"
   ]
  },
  {
   "cell_type": "code",
   "execution_count": 15,
   "metadata": {},
   "outputs": [
    {
     "data": {
      "text/plain": [
       "tensor(4)"
      ]
     },
     "execution_count": 15,
     "metadata": {},
     "output_type": "execute_result"
    }
   ],
   "source": [
    "label"
   ]
  },
  {
   "cell_type": "markdown",
   "metadata": {},
   "source": [
    "# definition of network"
   ]
  },
  {
   "cell_type": "code",
   "execution_count": 16,
   "metadata": {},
   "outputs": [],
   "source": [
    "import torch.nn as nn\n",
    "import torch.nn.functional as F"
   ]
  },
  {
   "cell_type": "code",
   "execution_count": 17,
   "metadata": {},
   "outputs": [],
   "source": [
    "class FeedForwardNetwork(nn.Module):\n",
    "    \n",
    "    def __init__(self, data_size, out_size):\n",
    "        super(FeedForwardNetwork, self).__init__()\n",
    "        \n",
    "        self.data_dim = self._num_flat_features(data_size)\n",
    "        \n",
    "        self.in_layer = nn.Linear(in_features=self.data_dim, out_features=128)\n",
    "        self.in_dropout = nn.Dropout(p=0.2)\n",
    "        self.in_normalize = nn.BatchNorm1d(num_features=128, affine=True)\n",
    "        self.in_activate = nn.ReLU()\n",
    "        \n",
    "        self.hidden1_layer = nn.Linear(in_features=128, out_features=128)\n",
    "        self.hidden1_dropout = nn.Dropout(p=0.2)\n",
    "        self.hidden1_normalize = nn.BatchNorm1d(num_features=128, affine=True)\n",
    "        self.hidden1_activate = nn.ReLU()\n",
    "        \n",
    "        self.hidden2_layer = nn.Linear(in_features=128, out_features=128)\n",
    "        self.hidden2_dropout = nn.Dropout(p=0.2)\n",
    "        self.hidden2_normalize = nn.BatchNorm1d(num_features=128, affine=True)\n",
    "        self.hidden2_activate = nn.ReLU()\n",
    "        \n",
    "        self.out_layer = nn.Linear(in_features=128, out_features=out_size)\n",
    "        self.out_normalize = nn.BatchNorm1d(num_features=10, affine=True)\n",
    "        \n",
    "    def forward(self, x):\n",
    "        x = torch.reshape(x, (x.size(0), self.data_dim))\n",
    "        \n",
    "        # input layer\n",
    "        x = self.in_activate(self.in_normalize(self.in_dropout(self.in_layer(x))))\n",
    "        \n",
    "        # hidden layers\n",
    "        x = self.hidden1_activate(self.hidden1_normalize(self.hidden1_dropout(self.hidden1_layer(x))))\n",
    "        x = self.hidden2_activate(self.hidden2_normalize(self.hidden2_dropout(self.hidden2_layer(x))))\n",
    "        \n",
    "        # output layer\n",
    "        x = F.softmax(self.out_normalize(self.out_layer(x)), dim=1) \n",
    "        return x\n",
    "        \n",
    "    def _num_flat_features(self, size):\n",
    "        num = 1\n",
    "        for dim in size[1:]:\n",
    "            num *= dim\n",
    "        return num\n",
    "\n",
    "network = FeedForwardNetwork(data_size=dataset_shape, out_size=10)"
   ]
  },
  {
   "cell_type": "code",
   "execution_count": 18,
   "metadata": {},
   "outputs": [
    {
     "data": {
      "text/plain": [
       "FeedForwardNetwork(\n",
       "  (in_layer): Linear(in_features=784, out_features=128, bias=True)\n",
       "  (in_dropout): Dropout(p=0.2)\n",
       "  (in_normalize): BatchNorm1d(128, eps=1e-05, momentum=0.1, affine=True, track_running_stats=True)\n",
       "  (in_activate): ReLU()\n",
       "  (hidden1_layer): Linear(in_features=128, out_features=128, bias=True)\n",
       "  (hidden1_dropout): Dropout(p=0.2)\n",
       "  (hidden1_normalize): BatchNorm1d(128, eps=1e-05, momentum=0.1, affine=True, track_running_stats=True)\n",
       "  (hidden1_activate): ReLU()\n",
       "  (hidden2_layer): Linear(in_features=128, out_features=128, bias=True)\n",
       "  (hidden2_dropout): Dropout(p=0.2)\n",
       "  (hidden2_normalize): BatchNorm1d(128, eps=1e-05, momentum=0.1, affine=True, track_running_stats=True)\n",
       "  (hidden2_activate): ReLU()\n",
       "  (out_layer): Linear(in_features=128, out_features=10, bias=True)\n",
       "  (out_normalize): BatchNorm1d(10, eps=1e-05, momentum=0.1, affine=True, track_running_stats=True)\n",
       ")"
      ]
     },
     "execution_count": 18,
     "metadata": {},
     "output_type": "execute_result"
    }
   ],
   "source": [
    "network"
   ]
  },
  {
   "cell_type": "markdown",
   "metadata": {},
   "source": [
    "# training"
   ]
  },
  {
   "cell_type": "code",
   "execution_count": 19,
   "metadata": {},
   "outputs": [],
   "source": [
    "import torch.optim as optim"
   ]
  },
  {
   "cell_type": "code",
   "execution_count": 20,
   "metadata": {},
   "outputs": [],
   "source": [
    "loss_fn = F.cross_entropy\n",
    "optimizer = optim.Adam(network.parameters(), lr=0.01, betas=[0.9, 0.999])"
   ]
  },
  {
   "cell_type": "code",
   "execution_count": 21,
   "metadata": {},
   "outputs": [
    {
     "name": "stdout",
     "output_type": "stream",
     "text": [
      "epoch: 1/30, training_loss: 1.5767312049865723, validation_loss: 1.534272313117981\n",
      "epoch: 2/30, training_loss: 1.5192404985427856, validation_loss: 1.519007682800293\n",
      "epoch: 3/30, training_loss: 1.4895987510681152, validation_loss: 1.5061911344528198\n",
      "epoch: 4/30, training_loss: 1.5002930164337158, validation_loss: 1.502048373222351\n",
      "epoch: 5/30, training_loss: 1.49653959274292, validation_loss: 1.5021532773971558\n",
      "epoch: 6/30, training_loss: 1.4830952882766724, validation_loss: 1.4969806671142578\n",
      "epoch: 7/30, training_loss: 1.5055198669433594, validation_loss: 1.4989650249481201\n",
      "epoch: 8/30, training_loss: 1.4886049032211304, validation_loss: 1.4999216794967651\n",
      "epoch: 9/30, training_loss: 1.4993969202041626, validation_loss: 1.4964265823364258\n",
      "epoch: 10/30, training_loss: 1.5231953859329224, validation_loss: 1.494498372077942\n",
      "epoch: 11/30, training_loss: 1.489976167678833, validation_loss: 1.492887258529663\n",
      "epoch: 12/30, training_loss: 1.475942850112915, validation_loss: 1.4933098554611206\n",
      "epoch: 13/30, training_loss: 1.4838476181030273, validation_loss: 1.4935801029205322\n",
      "epoch: 14/30, training_loss: 1.5001057386398315, validation_loss: 1.4934003353118896\n",
      "epoch: 15/30, training_loss: 1.5084761381149292, validation_loss: 1.4912742376327515\n",
      "epoch: 16/30, training_loss: 1.4838526248931885, validation_loss: 1.4945225715637207\n",
      "epoch: 17/30, training_loss: 1.4871407747268677, validation_loss: 1.4944355487823486\n",
      "epoch: 18/30, training_loss: 1.4807343482971191, validation_loss: 1.4934650659561157\n",
      "epoch: 19/30, training_loss: 1.4857882261276245, validation_loss: 1.4899749755859375\n",
      "epoch: 20/30, training_loss: 1.4687750339508057, validation_loss: 1.4912912845611572\n",
      "epoch: 21/30, training_loss: 1.4905977249145508, validation_loss: 1.4916164875030518\n",
      "epoch: 22/30, training_loss: 1.4759646654129028, validation_loss: 1.4929382801055908\n",
      "epoch: 23/30, training_loss: 1.511199712753296, validation_loss: 1.4909106492996216\n",
      "epoch: 24/30, training_loss: 1.471519947052002, validation_loss: 1.4897130727767944\n",
      "epoch: 25/30, training_loss: 1.4864840507507324, validation_loss: 1.4922690391540527\n",
      "epoch: 26/30, training_loss: 1.4757152795791626, validation_loss: 1.4897184371948242\n",
      "epoch: 27/30, training_loss: 1.4632033109664917, validation_loss: 1.4912234544754028\n",
      "epoch: 28/30, training_loss: 1.4828084707260132, validation_loss: 1.4911516904830933\n",
      "epoch: 29/30, training_loss: 1.4854902029037476, validation_loss: 1.4896271228790283\n",
      "epoch: 30/30, training_loss: 1.5066286325454712, validation_loss: 1.4907294511795044\n"
     ]
    }
   ],
   "source": [
    "training_losses = []\n",
    "validation_losses = []\n",
    "\n",
    "for epoch in range(EPOCHS):\n",
    "    for data in trainingset:\n",
    "        x, t = data\n",
    "\n",
    "        optimizer.zero_grad()\n",
    "        y = network(x)\n",
    "        \n",
    "        training_loss = loss_fn(y, t)\n",
    "        training_loss.backward()\n",
    "        optimizer.step()\n",
    "    \n",
    "    training_losses.append(training_loss.item())\n",
    "    \n",
    "    for data in validationset:\n",
    "        x, t = data\n",
    "        y = network(x)\n",
    "        \n",
    "        validation_loss = loss_fn(y, t)\n",
    "        validation_losses.append(validation_loss.item())\n",
    "    \n",
    "    print('epoch: {0}/{1}, training_loss: {2}, validation_loss: {3}'.format(epoch + 1, EPOCHS, training_loss.item(), validation_loss.item()))"
   ]
  },
  {
   "cell_type": "markdown",
   "metadata": {},
   "source": [
    "# loss transition"
   ]
  },
  {
   "cell_type": "code",
   "execution_count": 22,
   "metadata": {},
   "outputs": [],
   "source": [
    "import numpy as np\n",
    "import matplotlib.pyplot as plt\n",
    "%matplotlib inline "
   ]
  },
  {
   "cell_type": "code",
   "execution_count": 23,
   "metadata": {},
   "outputs": [
    {
     "data": {
      "image/png": "[encoded data removed]",
      "text/plain": [
       "<Figure size 432x288 with 1 Axes>"
      ]
     },
     "metadata": {},
     "output_type": "display_data"
    }
   ],
   "source": [
    "x_axis = np.arange(EPOCHS)\n",
    "plt.plot(x_axis, training_losses, label='train')\n",
    "plt.plot(x_axis, validation_losses, label='validation')\n",
    "plt.legend()\n",
    "plt.show()"
   ]
  },
  {
   "cell_type": "markdown",
   "metadata": {},
   "source": [
    "# evaluation"
   ]
  },
  {
   "cell_type": "code",
   "execution_count": 24,
   "metadata": {},
   "outputs": [
    {
     "data": {
      "text/plain": [
       "torch.Size([10000, 28, 28])"
      ]
     },
     "execution_count": 24,
     "metadata": {},
     "output_type": "execute_result"
    }
   ],
   "source": [
    "test_mnist =  datasets.MNIST('../data', download=True, transform=preprocess, train=False)\n",
    "test_mnist.test_data.size()"
   ]
  },
  {
   "cell_type": "code",
   "execution_count": 25,
   "metadata": {},
   "outputs": [],
   "source": [
    "testset = test_mnist.test_data.type(torch.FloatTensor)\n",
    "test_labels = test_mnist.test_labels"
   ]
  },
  {
   "cell_type": "code",
   "execution_count": 26,
   "metadata": {},
   "outputs": [],
   "source": [
    "y = network(testset)"
   ]
  },
  {
   "cell_type": "markdown",
   "metadata": {},
   "source": [
    "## logloss"
   ]
  },
  {
   "cell_type": "code",
   "execution_count": 27,
   "metadata": {},
   "outputs": [
    {
     "data": {
      "text/plain": [
       "1.4918360710144043"
      ]
     },
     "execution_count": 27,
     "metadata": {},
     "output_type": "execute_result"
    }
   ],
   "source": [
    "logloss = loss_fn(y, test_labels)\n",
    "logloss.item()"
   ]
  },
  {
   "cell_type": "markdown",
   "metadata": {},
   "source": [
    "## accuracy"
   ]
  },
  {
   "cell_type": "code",
   "execution_count": 28,
   "metadata": {},
   "outputs": [],
   "source": [
    "y_labels = torch.argmax(y, dim=1)"
   ]
  },
  {
   "cell_type": "code",
   "execution_count": 29,
   "metadata": {},
   "outputs": [],
   "source": [
    "correct_count = torch.sum(y_labels == test_labels, dim=0).item()"
   ]
  },
  {
   "cell_type": "code",
   "execution_count": 30,
   "metadata": {},
   "outputs": [
    {
     "data": {
      "text/plain": [
       "0.97"
      ]
     },
     "execution_count": 30,
     "metadata": {},
     "output_type": "execute_result"
    }
   ],
   "source": [
    "accuracy = correct_count / len(y_labels)\n",
    "accuracy"
   ]
  }
 ],
 "metadata": {
  "kernelspec": {
   "display_name": "Python 3",
   "language": "python",
   "name": "python3"
  },
  "language_info": {
   "codemirror_mode": {
    "name": "ipython",
    "version": 3
   },
   "file_extension": ".py",
   "mimetype": "text/x-python",
   "name": "python",
   "nbconvert_exporter": "python",
   "pygments_lexer": "ipython3",
   "version": "3.5.2"
  }
 },
 "nbformat": 4,
 "nbformat_minor": 2
}
